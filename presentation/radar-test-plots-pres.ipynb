{
 "cells": [
  {
   "cell_type": "markdown",
   "metadata": {
    "slideshow": {
     "slide_type": "slide"
    }
   },
   "source": [
    "# Radar Test Data and How We Can Use it\n",
    "## Marci Detwiller\n",
    "### University of Saskatchewan\n",
    "\n",
    "#### October 22, 2018"
   ]
  },
  {
   "cell_type": "markdown",
   "metadata": {
    "slideshow": {
     "slide_type": "slide"
    }
   },
   "source": [
    "## What kind of data do we collect on site?\n",
    "## What can we do with this data after its collected?\n",
    "## How can we improve our radars?"
   ]
  },
  {
   "cell_type": "markdown",
   "metadata": {
    "slideshow": {
     "slide_type": "notes"
    }
   },
   "source": [
    "Need more pictures!\n",
    "\n",
    "Ultimately, we want to use the data we collect to improve our \n",
    "radar data quality, whether that is increasing amount of data collected,\n",
    "calibrating so that elevation data is meaningful, etc."
   ]
  },
  {
   "cell_type": "markdown",
   "metadata": {
    "slideshow": {
     "slide_type": "slide"
    }
   },
   "source": [
    "## Data collection\n",
    "\n",
    "### Data collected depends on instruments available\n",
    "- Vector network analyzer (VNA)\n",
    "- Oscilloscope ('scope')\n",
    "- Multimeters\n",
    "- Wattmeters\n",
    "\n",
    "### Also depends on accessories, including specialized probes and tools\n",
    "- High voltage probe\n",
    "- Infrared camera\n",
    "- Heat gun\n",
    "- Thermistor probe for multimeter"
   ]
  },
  {
   "cell_type": "markdown",
   "metadata": {
    "slideshow": {
     "slide_type": "subslide"
    }
   },
   "source": [
    "# Some examples of data collected:\n",
    "\n",
    "- Propagation delay measurements (VNA)\n",
    "- Standing wave ratio (VNA)\n",
    "- Sky noise spectrum (VNA)\n",
    "- Phase output of direct digital synthesis system (scope)\n",
    "- Transmitter power output (scope)\n",
    "- Voltages on transmitters, settings (multimeters) "
   ]
  },
  {
   "cell_type": "markdown",
   "metadata": {
    "slideshow": {
     "slide_type": "subslide"
    }
   },
   "source": [
    "<img align=\"left\" style=\"transform:rotate(90deg);\" width=\"800\" height=\"400\" src=\"./pictures/20180811_170504.jpg\">"
   ]
  },
  {
   "cell_type": "markdown",
   "metadata": {
    "slideshow": {
     "slide_type": "subslide"
    }
   },
   "source": [
    "<img align=\"left\" width=\"600\" height=\"200\" src=\"./pictures/IMG_20180810_100312193.jpg\">"
   ]
  },
  {
   "cell_type": "markdown",
   "metadata": {
    "slideshow": {
     "slide_type": "slide"
    }
   },
   "source": [
    "## Data analysis\n",
    "\n",
    "## Some data is easily interpreted and allows us to immediately diagnose:\n",
    "- Bad connections\n",
    "- Faulty components\n",
    "- Calibrations required\n",
    "\n",
    "## What else can we do with this data?\n",
    "- Some issues are less obvious, so additional analysis can give more insight."
   ]
  },
  {
   "cell_type": "markdown",
   "metadata": {
    "slideshow": {
     "slide_type": "slide"
    }
   },
   "source": [
    "# Vector Network Analyzer\n",
    "\n",
    "<img src=\"./pictures/network-analyzer.jpg\" width=\"500\" align=\"center\">"
   ]
  },
  {
   "cell_type": "markdown",
   "metadata": {
    "slideshow": {
     "slide_type": "slide"
    }
   },
   "source": [
    "# VNA Measurements (data I will show today)\n",
    "\n",
    "- Propagation delay measurements\n",
    "    * pm-path: A transmission measurement (S12) through the phasing matrix. \n",
    "    * transmitter-path: A transmission measurement (S12) through the transmitter.\n",
    "- Standing wave ratio\n",
    "    * feedline-VSWR: A reflection measurement (S11) from the feedline in the building, out to the antenna, and back.\n",
    "- Sky noise spectrum\n",
    "    * I won't show any of this today."
   ]
  },
  {
   "cell_type": "code",
   "execution_count": 2,
   "metadata": {
    "slideshow": {
     "slide_type": "slide"
    }
   },
   "outputs": [],
   "source": [
    "import math\n",
    "import numpy as np\n",
    "import matplotlib.pyplot as plt\n",
    "from scipy import stats\n",
    "import pandas as pd\n",
    "pd.options.mode.chained_assignment = None\n",
    "import json\n",
    "import sys\n",
    "import random\n",
    "sys.path.append('../tdiff_path/')\n",
    "\n",
    "# import some modules that I created to do some data processing.\n",
    "\n",
    "import dataset_operations.dataset_operations as do\n",
    "import retrieve_data.retrieve_data as retrieve"
   ]
  },
  {
   "cell_type": "code",
   "execution_count": 3,
   "metadata": {},
   "outputs": [],
   "source": [
    "# I have metadata for all the datasets I have available stored in a csv.\n",
    "# Includes path to files and a mapping of file to channel name. \n",
    "site_file_metadata=pd.read_csv('site_file_metadata.csv')"
   ]
  },
  {
   "cell_type": "code",
   "execution_count": 4,
   "metadata": {
    "slideshow": {
     "slide_type": "slide"
    }
   },
   "outputs": [
    {
     "name": "stdout",
     "output_type": "stream",
     "text": [
      "   site      date         data_type\n",
      "27  CLY  20180817           pm-path\n",
      "15  CLY  20160701           pm-path\n",
      "26  CLY  20180817           pm-path\n",
      "23  CLY  20180817     feedline-VSWR\n",
      "10  CLY  20160701  transmitter-path\n",
      "25  CLY  20180817  transmitter-path\n",
      "24  CLY  20180817     feedline-VSWR\n",
      "4   CLY  20160701     feedline-VSWR\n",
      "3   CLY  20160628     feedline-VSWR\n",
      "5   INV  20170811     feedline-VSWR\n",
      "11  INV  20170813  transmitter-path\n",
      "16  INV  20170813           pm-path\n",
      "1   PGR  20171003     feedline-VSWR\n",
      "9   PGR  20170930  transmitter-path\n",
      "2   PGR  20170930     feedline-VSWR\n",
      "14  PGR  20171001           pm-path\n",
      "22  RKN  20180808           pm-path\n",
      "21  RKN  20180808           pm-path\n",
      "20  RKN  20180808  transmitter-path\n",
      "7   RKN  20160721     feedline-VSWR\n",
      "18  RKN  20180808     feedline-VSWR\n",
      "17  RKN  20160719           pm-path\n",
      "6   RKN  20160705     feedline-VSWR\n",
      "19  RKN  20180808     feedline-VSWR\n",
      "12  RKN  20160719  transmitter-path\n",
      "0   SAS  20170627     feedline-VSWR\n",
      "8   SAS  20170630  transmitter-path\n",
      "13  SAS  20170629           pm-path\n"
     ]
    }
   ],
   "source": [
    "# Let's check out the data we have available!\n",
    "available_data = site_file_metadata.loc[:,['site','date','data_type']].sort_values(by=['site'])\n",
    "\n",
    "print(available_data)"
   ]
  },
  {
   "cell_type": "code",
   "execution_count": 5,
   "metadata": {
    "slideshow": {
     "slide_type": "slide"
    }
   },
   "outputs": [],
   "source": [
    "# Now we can choose a site, date, and data type that we want to look at. \n",
    "\n",
    "%run load_data.py CLY 20180817 pm-path"
   ]
  },
  {
   "cell_type": "markdown",
   "metadata": {
    "slideshow": {
     "slide_type": "-"
    }
   },
   "source": [
    "# load_data.py makes the following available to us:\n",
    "* working_dataframe, with all information on all channels from this site, date, and data type\n",
    "* linear_fit_dict, with information on the phase path for each channel\n",
    "* cable_loss_dataset_dict, if we chose feedline-VSWR datatype, which is used to calculate a single-direction path from a VSWR measurement.\n"
   ]
  },
  {
   "cell_type": "code",
   "execution_count": 6,
   "metadata": {
    "slideshow": {
     "slide_type": "subslide"
    }
   },
   "outputs": [
    {
     "name": "stdout",
     "output_type": "stream",
     "text": [
      "      freq  M0magnitude  M0phase_deg  M1magnitude  M1phase_deg  M2magnitude  \\\n",
      "0  8000000    14.390086   144.944183    14.431127   143.980942    14.600711   \n",
      "1  8030000    14.378378   139.116516    14.409729   138.240814    14.586692   \n",
      "2  8060000    14.332479   133.010605    14.365749   132.192123    14.565275   \n",
      "3  8090000    14.324810   126.923569    14.331370   126.037354    14.550996   \n",
      "4  8120000    14.292202   121.152634    14.312615   120.305115    14.536831   \n",
      "\n",
      "   M2phase_deg  M3magnitude  M3phase_deg  M4magnitude       ...         \\\n",
      "0   139.236679    14.513210   144.256424   -34.177628       ...          \n",
      "1   133.397079    14.509064   138.349976   -41.843716       ...          \n",
      "2   127.306061    14.476974   132.230484   -34.120739       ...          \n",
      "3   121.336678    14.467180   126.256256   -48.119297       ...          \n",
      "4   115.503510    14.437731   120.461250   -32.504646       ...          \n",
      "\n",
      "   I2phase_rad  I3phase_rad  M_all_phase_deg_unwrap  M_all_phase_rad  \\\n",
      "0     1.999482     2.104981              144.944183         2.529753   \n",
      "1     1.903202     2.006728              139.116516         2.428041   \n",
      "2     1.802173     1.904292              133.010605         2.321473   \n",
      "3     1.702116     1.801479              126.923569         2.215234   \n",
      "4     1.603987     1.702836              121.152634         2.114512   \n",
      "\n",
      "   I_all_phase_deg_unwrap  I_all_phase_rad  M_all_phase_deg  M_all_magnitude  \\\n",
      "0              118.110222         2.061412       144.944183        14.390086   \n",
      "1              112.325233         1.960445       139.116516        14.378378   \n",
      "2              106.277390         1.854890       133.010605        14.332479   \n",
      "3              100.430351         1.752840       126.923569        14.324810   \n",
      "4               94.772896         1.654099       121.152634        14.292202   \n",
      "\n",
      "   I_all_phase_deg  I_all_magnitude  \n",
      "0       118.110222        20.755741  \n",
      "1       112.325233        20.764215  \n",
      "2       106.277390        20.735722  \n",
      "3       100.430351        20.755556  \n",
      "4        94.772896        20.759071  \n",
      "\n",
      "[5 rows x 89 columns]\n"
     ]
    }
   ],
   "source": [
    "# Here is a few lines from the working dataframe\n",
    "print(working_dataframe.head())"
   ]
  },
  {
   "cell_type": "code",
   "execution_count": 7,
   "metadata": {
    "slideshow": {
     "slide_type": "subslide"
    }
   },
   "outputs": [
    {
     "name": "stdout",
     "output_type": "stream",
     "text": [
      "{'slope': -2.3117678830078856e-06, 'intercept': 20.20239065210879, 'rvalue': -0.9994042468829112, 'pvalue': 0.0, 'stderr': 3.996686229919998e-09, 'offset_of_best_fit_rads': 0    0.821506\n",
      "1    0.789147\n",
      "2    0.751931\n",
      "3    0.715046\n",
      "4    0.683677\n",
      "Name: phase_rad, dtype: float64, 'time_delay_ns': 367.93, 'best_fit_line_rads':    phase_rad\n",
      "0   1.708248\n",
      "1   1.638895\n",
      "2   1.569542\n",
      "3   1.500188\n",
      "4   1.430835}\n"
     ]
    }
   ],
   "source": [
    "# We can also take a look at what's in the linear_fit_dict:\n",
    "# Let's look at the dictionary that is in the linear_fit_dict['M0'], showing just the head of the DataFrames\n",
    "# So we can get an overview of what's there.\n",
    "viewing_dict = {key: (value.head() if type(value) == pd.Series or type(value) == pd.DataFrame else value) for (key, value) in linear_fit_dict['M0'].items()}\n",
    "print(viewing_dict)"
   ]
  },
  {
   "cell_type": "markdown",
   "metadata": {
    "slideshow": {
     "slide_type": "slide"
    }
   },
   "source": [
    "# Time to plot some things!\n",
    "\n",
    "## Things that I think are useful to plot:\n",
    "- path phases, to see differences between individual channels.\n",
    "- combined array phases, to see differences between arrays.\n",
    "- magnitudes, to see if any paths have lower signal amplitude."
   ]
  },
  {
   "cell_type": "markdown",
   "metadata": {
    "slideshow": {
     "slide_type": "slide"
    }
   },
   "source": [
    "- Active components and differences in antennas yield a non-linear phase path across frequency which directly affects elevation measurements."
   ]
  },
  {
   "cell_type": "markdown",
   "metadata": {
    "slideshow": {
     "slide_type": "slide"
    }
   },
   "source": [
    "# Conclusion\n",
    "- We can gain a better understanding of our data by understanding our hardware (and operating software).\n",
    "- If anyone is interested in looking at or using hardware data, **talk to me!**\n",
    "- If anyone has suggestions for hardware measurements that would help with data analysis, **talk to me!**"
   ]
  },
  {
   "cell_type": "markdown",
   "metadata": {
    "slideshow": {
     "slide_type": "slide"
    }
   },
   "source": [
    "# Sources\n",
    "http://www.rfwireless-world.com/Terminology/SNA-Scalar-Network-Analyzer-vs-VNA-Vector-Network-Analyzer.html"
   ]
  },
  {
   "cell_type": "code",
   "execution_count": null,
   "metadata": {
    "slideshow": {
     "slide_type": "slide"
    }
   },
   "outputs": [],
   "source": [
    "# If anyone wants to take a look at what the code is doing. \n",
    "#%pycat load_data.py\n",
    "#%pycat ../tdiff_path/retrieve_data/retrieve_data.py\n",
    "#%pycat ../tdiff_path/dataset_operations/dataset_operations.py"
   ]
  }
 ],
 "metadata": {
  "celltoolbar": "Slideshow",
  "kernelspec": {
   "display_name": "Python 3",
   "language": "python",
   "name": "python3"
  },
  "language_info": {
   "codemirror_mode": {
    "name": "ipython",
    "version": 3
   },
   "file_extension": ".py",
   "mimetype": "text/x-python",
   "name": "python",
   "nbconvert_exporter": "python",
   "pygments_lexer": "ipython3",
   "version": "3.6.5"
  }
 },
 "nbformat": 4,
 "nbformat_minor": 2
}
