{
 "cells": [
  {
   "cell_type": "markdown",
   "metadata": {
    "slideshow": {
     "slide_type": "slide"
    }
   },
   "source": [
    "# Radar Test Data and How We Can Use it\n",
    "## Marci Detwiller\n",
    "### University of Saskatchewan\n",
    "\n",
    "#### October 22, 2018"
   ]
  },
  {
   "cell_type": "markdown",
   "metadata": {
    "slideshow": {
     "slide_type": "slide"
    }
   },
   "source": [
    "## What kind of data do we collect on site?\n",
    "## What can we do with this data after its collected?\n",
    "## How can we improve our radars?"
   ]
  },
  {
   "cell_type": "markdown",
   "metadata": {
    "slideshow": {
     "slide_type": "notes"
    }
   },
   "source": [
    "Need more pictures!\n",
    "\n",
    "Ultimately, we want to use the data we collect to improve our \n",
    "radar data quality, whether that is increasing amount of data collected,\n",
    "calibrating so that elevation data is meaningful, etc."
   ]
  },
  {
   "cell_type": "markdown",
   "metadata": {
    "slideshow": {
     "slide_type": "slide"
    }
   },
   "source": [
    "# Data collection\n",
    "\n",
    "## Data collected depends on instruments available\n",
    "- Vector network analyzer\n",
    "- Oscilloscope\n",
    "- Multimeters\n",
    "\n",
    "### Also depends on accessories, including specialized probes and tools\n",
    "- High voltage probe\n",
    "- Infrared camera\n",
    "- Heat gun\n",
    "- Thermistor probe for multimeter"
   ]
  },
  {
   "cell_type": "markdown",
   "metadata": {
    "slideshow": {
     "slide_type": "subslide"
    }
   },
   "source": [
    "<img align=\"left\" width=\"600\" height=\"200\" src=\"20180811_170504.jpg\"><img align=\"right\" width=\"600\" height=\"200\" src=\"IMG_20180810_100312193.jpg\">"
   ]
  },
  {
   "cell_type": "markdown",
   "metadata": {
    "slideshow": {
     "slide_type": "subslide"
    }
   },
   "source": [
    "# Some examples of data collected:\n",
    "\n",
    "- Propagation delay measurements\n",
    "- Standing wave ratio\n",
    "- Sky noise spectrum\n",
    "- Phase output of direct digital synthesis system\n",
    "- Transmitter power output"
   ]
  },
  {
   "cell_type": "markdown",
   "metadata": {
    "slideshow": {
     "slide_type": "slide"
    }
   },
   "source": [
    "# Data analysis\n",
    "\n",
    "## Tests are used to directly diagnose problems\n",
    "## Some data is easily interpreted and allows us to diagnose:\n",
    "- Bad connections\n",
    "- Faulty components\n",
    "- Calibrations required\n",
    "\n",
    "## What else can we do with this data?\n",
    "- Some issues are less obvious"
   ]
  },
  {
   "cell_type": "code",
   "execution_count": 2,
   "metadata": {
    "slideshow": {
     "slide_type": "subslide"
    }
   },
   "outputs": [],
   "source": [
    "# plot some data here showing one path phase off not immediately obvious."
   ]
  },
  {
   "cell_type": "code",
   "execution_count": null,
   "metadata": {
    "slideshow": {
     "slide_type": "notes"
    }
   },
   "outputs": [],
   "source": [
    "# subslide above places image in cell - better than this one. \n",
    "# Show the plot of all paths where single pathphase is off. \n",
    "#Sometimes problems are not immediately evident after a single test. \n",
    "# Multiple tests combined with further analysis can lead to surprising \n",
    "# later revelations about the data. \n",
    "\n",
    "#from IPython.display import Image, display\n",
    "\n",
    "# display image showing single path phase problem\n",
    "#hidden_issue_image = 'python-logo.png'\n",
    "\n",
    "#display(Image(filename=hidden_issue_image))"
   ]
  },
  {
   "cell_type": "markdown",
   "metadata": {
    "slideshow": {
     "slide_type": "slide"
    }
   },
   "source": [
    "# Vector Network Analyzer\n",
    "\n",
    "## Very useful tool for RF system analysis\n",
    "\n",
    "![title](network-analyzer.jpg)"
   ]
  },
  {
   "cell_type": "markdown",
   "metadata": {
    "slideshow": {
     "slide_type": "notes"
    }
   },
   "source": [
    "Arguably the most useful tool we use for site visits. "
   ]
  },
  {
   "cell_type": "code",
   "execution_count": 7,
   "metadata": {
    "slideshow": {
     "slide_type": "slide"
    }
   },
   "outputs": [],
   "source": [
    "import math\n",
    "import numpy as np\n",
    "import matplotlib.pyplot as plt\n",
    "from scipy import stats\n",
    "import pandas as pd\n",
    "pd.options.mode.chained_assignment = None\n",
    "import json\n",
    "import sys\n",
    "import random\n",
    "sys.path.append('../tdiff_path/')\n",
    "\n",
    "# import some modules that I created to do some data processing.\n",
    "\n",
    "import dataset_operations.dataset_operations as do\n",
    "import retrieve_data.retrieve_data as retrieve"
   ]
  },
  {
   "cell_type": "code",
   "execution_count": null,
   "metadata": {},
   "outputs": [],
   "source": [
    "# I have metadata for all the datasets I have available stored in a csv.\n",
    "site_file_metadata=pd.read_csv('site_file_metadata.csv')"
   ]
  },
  {
   "cell_type": "code",
   "execution_count": null,
   "metadata": {},
   "outputs": [],
   "source": [
    "# Let's check out the data we have available!\n",
    "available_data = site_file_metadata.loc[:,['site','date','data_type']].sort_values(by=['site'])\n",
    "\n",
    "print(available_data)"
   ]
  },
  {
   "cell_type": "markdown",
   "metadata": {
    "slideshow": {
     "slide_type": "slide"
    }
   },
   "source": [
    "# What are these data types?\n",
    "\n",
    "* pm-path: A transmission measurement (S12) through the phasing matrix. \n",
    "* transmitter-path: A transmission measurement (S12) through the transmitter.\n",
    "* feedline-VSWR: A reflection measurement (S11) from the feedline in the building, out to the antenna, and back."
   ]
  },
  {
   "cell_type": "code",
   "execution_count": null,
   "metadata": {
    "slideshow": {
     "slide_type": "slide"
    }
   },
   "outputs": [],
   "source": [
    "# Now we can choose a site, date, and data type that we want to look at. \n",
    "\n",
    "%run load_data.py CLY 20180817 pm-path"
   ]
  },
  {
   "cell_type": "code",
   "execution_count": null,
   "metadata": {
    "slideshow": {
     "slide_type": "subslide"
    }
   },
   "outputs": [],
   "source": [
    "# load_data.py has made the following available to us:\n",
    "# working_dataframe, with all information on all channels from this site, date, and data type\n",
    "# linear_fit_dict, with information on the phase path for each channel\n",
    "# cable_loss_dataset_dict, if we chose feedline-VSWR datatype, which is used to calculate a single-direction \n",
    "#   path from a VSWR measurement.\n",
    "\n",
    "# Here is a few lines from the working dataframe\n",
    "print(working_dataframe.head())"
   ]
  },
  {
   "cell_type": "code",
   "execution_count": null,
   "metadata": {
    "slideshow": {
     "slide_type": "subslide"
    }
   },
   "outputs": [],
   "source": [
    "# We can also take a look at what's in the linear_fit_dict:\n",
    "print(linear_fit_dict.keys())\n",
    "print(linear_fit_dict['M0'].keys())"
   ]
  },
  {
   "cell_type": "markdown",
   "metadata": {
    "slideshow": {
     "slide_type": "slide"
    }
   },
   "source": [
    "# Time to plot some things!\n",
    "\n",
    "## Things that I think are useful to plot:\n",
    "- path phases, to see differences between individual channels.\n",
    "- combined array phases, to see differences between arrays.\n",
    "- magnitudes, to see if any paths have lower signal amplitude."
   ]
  },
  {
   "cell_type": "markdown",
   "metadata": {
    "slideshow": {
     "slide_type": "slide"
    }
   },
   "source": [
    "# Conclusion\n",
    "- We can understand our data better by understanding our hardware better.\n",
    "- Active components and differences in antennas yield a non-linear phase path across frequency.\n"
   ]
  },
  {
   "cell_type": "markdown",
   "metadata": {
    "slideshow": {
     "slide_type": "slide"
    }
   },
   "source": [
    "# Questions"
   ]
  },
  {
   "cell_type": "markdown",
   "metadata": {},
   "source": [
    "source: http://www.rfwireless-world.com/Terminology/SNA-Scalar-Network-Analyzer-vs-VNA-Vector-Network-Analyzer.html"
   ]
  }
 ],
 "metadata": {
  "celltoolbar": "Slideshow",
  "kernelspec": {
   "display_name": "Python 3",
   "language": "python",
   "name": "python3"
  },
  "language_info": {
   "codemirror_mode": {
    "name": "ipython",
    "version": 3
   },
   "file_extension": ".py",
   "mimetype": "text/x-python",
   "name": "python",
   "nbconvert_exporter": "python",
   "pygments_lexer": "ipython3",
   "version": "3.6.5"
  }
 },
 "nbformat": 4,
 "nbformat_minor": 2
}
