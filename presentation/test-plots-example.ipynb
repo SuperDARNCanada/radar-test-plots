{
 "cells": [
  {
   "cell_type": "code",
   "execution_count": 2,
   "metadata": {},
   "outputs": [],
   "source": [
    "import math\n",
    "import numpy as np\n",
    "import matplotlib as plt\n",
    "from scipy import stats\n",
    "import pandas as pd\n",
    "import sys\n",
    "sys.path.append('../tdiff_path/')"
   ]
  },
  {
   "cell_type": "code",
   "execution_count": 3,
   "metadata": {},
   "outputs": [],
   "source": [
    "# import some modules that I created to do some data processing.\n",
    "\n",
    "import dataset_operations.dataset_operations as do \n",
    "import retrieve_data.retrieve_data as retrieve"
   ]
  },
  {
   "cell_type": "code",
   "execution_count": 33,
   "metadata": {},
   "outputs": [
    {
     "name": "stdout",
     "output_type": "stream",
     "text": [
      "  site date data_location mapping_filename interim_data\n",
      "0  SAS                                            False\n",
      "1  PGR                                            False\n",
      "2  RKN                                            False\n",
      "3  CLY                                            False\n",
      "4  INV                                            False\n"
     ]
    }
   ],
   "source": [
    "data_location = ['/home/shared/Sync/Sites/Saskatoon/SITE-VISITS-2017/Data-wo-UTF8/', '', '', '', '']\n",
    "sites = ['SAS', 'PGR', 'RKN', 'CLY', 'INV']\n",
    "dates = ['20170630', '', '', '', '']\n",
    "mapping_filename = ['/home/shared/Sync/Sites/Saskatoon/SITE-VISITS-2017/Data_Analysis/VSWRS/vswr-files.json', '', '', '', '']\n",
    "\n",
    "interim_data = [False, False, False, False, False] \n",
    "# was this test data that isn't indicative of how we left the site?\n",
    "\n",
    "metadata = [sites, dates, data_location, mapping_filename, interim_data]\n",
    "metadata = np.array(metadata)\n",
    "column_names = ['site', 'date', 'data_location', 'mapping_filename', 'interim_data']\n",
    "site_file_metadata = pd.DataFrame(np.transpose(metadata), columns=column_names)\n",
    "\n",
    "print(site_file_metadata)"
   ]
  },
  {
   "cell_type": "code",
   "execution_count": 32,
   "metadata": {},
   "outputs": [
    {
     "name": "stdout",
     "output_type": "stream",
     "text": [
      "  site date data_location mapping_filename interim_data\n",
      "0  SAS                                            False\n",
      "1  PGR                                            False\n",
      "2  RKN                                            False\n",
      "3  CLY                                            False\n",
      "4  INV                                            False\n"
     ]
    }
   ],
   "source": []
  },
  {
   "cell_type": "code",
   "execution_count": null,
   "metadata": {},
   "outputs": [],
   "source": []
  }
 ],
 "metadata": {
  "kernelspec": {
   "display_name": "Python 3",
   "language": "python",
   "name": "python3"
  },
  "language_info": {
   "codemirror_mode": {
    "name": "ipython",
    "version": 3
   },
   "file_extension": ".py",
   "mimetype": "text/x-python",
   "name": "python",
   "nbconvert_exporter": "python",
   "pygments_lexer": "ipython3",
   "version": "3.6.5"
  }
 },
 "nbformat": 4,
 "nbformat_minor": 2
}
