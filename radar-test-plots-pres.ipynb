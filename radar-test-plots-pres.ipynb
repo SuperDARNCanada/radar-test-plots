{
 "cells": [
  {
   "cell_type": "markdown",
   "metadata": {
    "slideshow": {
     "slide_type": "slide"
    }
   },
   "source": [
    "# Radar Test Data and How We Can Use it\n",
    "## Marci Detwiller\n",
    "### University of Saskatchewan\n",
    "\n",
    "#### October 22, 2018"
   ]
  },
  {
   "cell_type": "markdown",
   "metadata": {
    "slideshow": {
     "slide_type": "slide"
    }
   },
   "source": [
    "## What kind of data do we collect on site?\n",
    "## What can we do with this data after its collected?\n",
    "## How can we improve our radars?"
   ]
  },
  {
   "cell_type": "markdown",
   "metadata": {
    "slideshow": {
     "slide_type": "notes"
    }
   },
   "source": [
    "Need more pictures!\n",
    "\n",
    "Ultimately, we want to use the data we collect to improve our \n",
    "radar data quality, whether that is increasing amount of data collected,\n",
    "calibrating so that elevation data is meaningful, etc."
   ]
  },
  {
   "cell_type": "markdown",
   "metadata": {
    "slideshow": {
     "slide_type": "slide"
    }
   },
   "source": [
    "# Data collection\n",
    "\n",
    "## Data collected depends on instruments available\n",
    "- Network analyzer\n",
    "- Oscilloscope\n",
    "- Multimeters\n",
    "\n",
    "### Also depends on accessories, including specialized probes and tools\n",
    "- High voltage probe\n",
    "- Infrared camera\n",
    "- Heat gun\n",
    "- Thermistor probe for multimeter"
   ]
  },
  {
   "cell_type": "markdown",
   "metadata": {
    "slideshow": {
     "slide_type": "subslide"
    }
   },
   "source": [
    "# Some examples of data collected:\n",
    "\n",
    "- Propagation delay measurements\n",
    "- Standing wave ratio\n",
    "- Sky noise spectrum\n",
    "- Phase output of direct digital synthesis system\n",
    "- Transmitter power output"
   ]
  },
  {
   "cell_type": "markdown",
   "metadata": {
    "slideshow": {
     "slide_type": "slide"
    }
   },
   "source": [
    "# Data analysis\n",
    "\n",
    "## Tests are used to directly diagnose problems\n",
    "- Bad connections\n",
    "- Faulty components\n",
    "- Calibrations required\n",
    "\n",
    "## What else can we do with this data?\n",
    "- Some issues are less obvious"
   ]
  },
  {
   "cell_type": "markdown",
   "metadata": {
    "slideshow": {
     "slide_type": "subslide"
    }
   },
   "source": [
    "![title](python-logo.png)"
   ]
  },
  {
   "cell_type": "code",
   "execution_count": null,
   "metadata": {
    "slideshow": {
     "slide_type": "notes"
    }
   },
   "outputs": [],
   "source": [
    "# subslide above places image in cell - better than this one. \n",
    "# Show the plot of all paths where single pathphase is off. \n",
    "#Sometimes problems are not immediately evident after a single test. \n",
    "# Multiple tests combined with further analysis can lead to surprising \n",
    "# later revelations about the data. \n",
    "\n",
    "#from IPython.display import Image, display\n",
    "\n",
    "# display image showing single path phase problem\n",
    "#hidden_issue_image = 'python-logo.png'\n",
    "\n",
    "#display(Image(filename=hidden_issue_image))"
   ]
  },
  {
   "cell_type": "code",
   "execution_count": 7,
   "metadata": {},
   "outputs": [],
   "source": [
    "import numpy as np\n",
    "import pandas as pd\n"
   ]
  },
  {
   "cell_type": "code",
   "execution_count": null,
   "metadata": {},
   "outputs": [],
   "source": []
  }
 ],
 "metadata": {
  "celltoolbar": "Slideshow",
  "kernelspec": {
   "display_name": "Python 3",
   "language": "python",
   "name": "python3"
  },
  "language_info": {
   "codemirror_mode": {
    "name": "ipython",
    "version": 3
   },
   "file_extension": ".py",
   "mimetype": "text/x-python",
   "name": "python",
   "nbconvert_exporter": "python",
   "pygments_lexer": "ipython3",
   "version": "3.7.0"
  }
 },
 "nbformat": 4,
 "nbformat_minor": 2
}
